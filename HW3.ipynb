{
 "cells": [
  {
   "cell_type": "markdown",
   "metadata": {
    "slideshow": {
     "slide_type": "slide"
    }
   },
   "source": [
    "## Homework Assignment 3\n",
    "\n",
    "### Combine PCA with SVM\n",
    "\n",
    "- Use the mnist data from keras\n",
    "- Try PCA on the data to reduce the dimension first, then use svm.SVC to classify the digits\n",
    "- What accuracy score do you get for the test data? (try n_components=2, 5, 10, 20, 50, 100)\n",
    "- Plot the accuracy score vs the number of Principal Components used, Does the accuracy go up when more PCs are used?\n",
    "\n"
   ]
  },
  {
   "cell_type": "code",
   "execution_count": 1,
   "metadata": {
    "slideshow": {
     "slide_type": "slide"
    }
   },
   "outputs": [
    {
     "name": "stdout",
     "output_type": "stream",
     "text": [
      "(60000, 28, 28)\n"
     ]
    }
   ],
   "source": [
    "import numpy as np\n",
    "import pandas as pd\n",
    "from keras.datasets import mnist\n",
    "from sklearn.preprocessing import StandardScaler\n",
    "from sklearn.decomposition import PCA\n",
    "from sklearn.svm import SVC\n",
    "\n",
    "(X_train, y_train), (X_test, y_test) = mnist.load_data()\n",
    "\n",
    "print(X_train.shape)"
   ]
  },
  {
   "cell_type": "code",
   "execution_count": 2,
   "metadata": {
    "slideshow": {
     "slide_type": "slide"
    }
   },
   "outputs": [
    {
     "name": "stdout",
     "output_type": "stream",
     "text": [
      "(60000, 784)\n"
     ]
    }
   ],
   "source": [
    "input_dim = 784\n",
    "X_train = X_train.reshape(-1, input_dim)\n",
    "X_test = X_test.reshape(-1, input_dim)\n",
    "X_train = X_train.astype('float32')\n",
    "X_test = X_test.astype('float32')\n",
    "X_train /= 255\n",
    "X_test /= 255\n",
    "\n",
    "print(X_train.shape)"
   ]
  },
  {
   "cell_type": "code",
   "execution_count": 26,
   "metadata": {},
   "outputs": [
    {
     "name": "stdout",
     "output_type": "stream",
     "text": [
      "score 0.478\n"
     ]
    }
   ],
   "source": [
    "pca = PCA(n_components=2) # adjust yourself\n",
    "pca.fit(X_train)\n",
    "\n",
    "X_t_train = pca.transform(X_train)\n",
    "X_t_test = pca.transform(X_test)\n",
    "\n",
    "clf = SVC(gamma='scale')\n",
    "clf.fit(X_t_train, y_train)\n",
    "\n",
    "print('score', clf.score(X_t_test, y_test))"
   ]
  },
  {
   "cell_type": "code",
   "execution_count": 27,
   "metadata": {},
   "outputs": [
    {
     "name": "stdout",
     "output_type": "stream",
     "text": [
      "score 0.7727\n"
     ]
    }
   ],
   "source": [
    "pca = PCA(n_components=5) # adjust yourself\n",
    "pca.fit(X_train)\n",
    "\n",
    "X_t_train = pca.transform(X_train)\n",
    "X_t_test = pca.transform(X_test)\n",
    "\n",
    "clf = SVC(gamma='scale')\n",
    "clf.fit(X_t_train, y_train)\n",
    "\n",
    "print('score', clf.score(X_t_test, y_test))"
   ]
  },
  {
   "cell_type": "code",
   "execution_count": 31,
   "metadata": {},
   "outputs": [
    {
     "name": "stdout",
     "output_type": "stream",
     "text": [
      "score 0.9364\n"
     ]
    }
   ],
   "source": [
    "pca = PCA(n_components=10) # adjust yourself\n",
    "pca.fit(X_train)\n",
    "\n",
    "X_t_train = pca.transform(X_train)\n",
    "X_t_test = pca.transform(X_test)\n",
    "\n",
    "clf = SVC(gamma='scale')\n",
    "clf.fit(X_t_train, y_train)\n",
    "\n",
    "print('score', clf.score(X_t_test, y_test))"
   ]
  },
  {
   "cell_type": "code",
   "execution_count": 28,
   "metadata": {},
   "outputs": [
    {
     "name": "stdout",
     "output_type": "stream",
     "text": [
      "score 0.9755\n"
     ]
    }
   ],
   "source": [
    "pca = PCA(n_components=20) # adjust yourself\n",
    "pca.fit(X_train)\n",
    "\n",
    "X_t_train = pca.transform(X_train)\n",
    "X_t_test = pca.transform(X_test)\n",
    "\n",
    "clf = SVC(gamma='scale')\n",
    "clf.fit(X_t_train, y_train)\n",
    "\n",
    "print('score', clf.score(X_t_test, y_test))"
   ]
  },
  {
   "cell_type": "code",
   "execution_count": 29,
   "metadata": {},
   "outputs": [
    {
     "name": "stdout",
     "output_type": "stream",
     "text": [
      "score 0.9832\n"
     ]
    }
   ],
   "source": [
    "pca = PCA(n_components=50) # adjust yourself\n",
    "pca.fit(X_train)\n",
    "\n",
    "X_t_train = pca.transform(X_train)\n",
    "X_t_test = pca.transform(X_test)\n",
    "\n",
    "clf = SVC(gamma='scale')\n",
    "clf.fit(X_t_train, y_train)\n",
    "\n",
    "print('score', clf.score(X_t_test, y_test))"
   ]
  },
  {
   "cell_type": "code",
   "execution_count": 30,
   "metadata": {},
   "outputs": [
    {
     "name": "stdout",
     "output_type": "stream",
     "text": [
      "score 0.9841\n"
     ]
    }
   ],
   "source": [
    "pca = PCA(n_components=100) # adjust yourself\n",
    "pca.fit(X_train)\n",
    "\n",
    "X_t_train = pca.transform(X_train)\n",
    "X_t_test = pca.transform(X_test)\n",
    "\n",
    "clf = SVC(gamma='scale')\n",
    "clf.fit(X_t_train, y_train)\n",
    "\n",
    "print('score', clf.score(X_t_test, y_test))"
   ]
  },
  {
   "cell_type": "code",
   "execution_count": null,
   "metadata": {},
   "outputs": [],
   "source": [
    "#结论\n",
    "Accuracy Score, Number of PCs2, 5, 10, 20, 50, 100\n",
    "(0.478,2)\n",
    "(0.7727,5)\n",
    "(0.9364,10)\n",
    "(0.9755,20)\n",
    "(0.9832,50)\n",
    "(0.9841,100)\n",
    "- 当所采用的主成分增加，分类评分也相应提高。\n",
    "- 但当主成分超过50，精确度评分增加程度变得较为有限。[主成分 50 → 100，评分 0.9832 → 0.9841]"
   ]
  }
 ],
 "metadata": {
  "kernelspec": {
   "display_name": "Python 3",
   "language": "python",
   "name": "python3"
  },
  "language_info": {
   "codemirror_mode": {
    "name": "ipython",
    "version": 3
   },
   "file_extension": ".py",
   "mimetype": "text/x-python",
   "name": "python",
   "nbconvert_exporter": "python",
   "pygments_lexer": "ipython3",
   "version": "3.8.5"
  }
 },
 "nbformat": 4,
 "nbformat_minor": 4
}
